{
 "cells": [
  {
   "attachments": {},
   "cell_type": "markdown",
   "metadata": {},
   "source": [
    "# Analyzing data from World Happiness Report 2023 \n",
    "\n",
    "Data: Data for Figure 2.1\n",
    "\n",
    "Source: https://worldhappiness.report/ed/2023/#appendices-and-data"
   ]
  },
  {
   "attachments": {},
   "cell_type": "markdown",
   "metadata": {},
   "source": [
    "This notebook aims to find insights provided by the above mentioned data, trying to establish connections between variables and summarizing important data."
   ]
  },
  {
   "cell_type": "code",
   "execution_count": 2,
   "metadata": {},
   "outputs": [],
   "source": [
    "import pandas as pd\n",
    "import matplotlib.pyplot as plt\n",
    "import pylab as pl\n",
    "import plotly.express as px\n",
    "import seaborn as sb"
   ]
  },
  {
   "attachments": {},
   "cell_type": "markdown",
   "metadata": {},
   "source": [
    "Some data transformation: changing column format "
   ]
  },
  {
   "cell_type": "code",
   "execution_count": 3,
   "metadata": {},
   "outputs": [
    {
     "data": {
      "text/html": [
       "<div>\n",
       "<style scoped>\n",
       "    .dataframe tbody tr th:only-of-type {\n",
       "        vertical-align: middle;\n",
       "    }\n",
       "\n",
       "    .dataframe tbody tr th {\n",
       "        vertical-align: top;\n",
       "    }\n",
       "\n",
       "    .dataframe thead th {\n",
       "        text-align: right;\n",
       "    }\n",
       "</style>\n",
       "<table border=\"1\" class=\"dataframe\">\n",
       "  <thead>\n",
       "    <tr style=\"text-align: right;\">\n",
       "      <th></th>\n",
       "      <th>country_name</th>\n",
       "      <th>ladder_score</th>\n",
       "      <th>standard_error_of_ladder_score</th>\n",
       "      <th>upperwhisker</th>\n",
       "      <th>lowerwhisker</th>\n",
       "      <th>logged_gdp_per_capita</th>\n",
       "      <th>social_support</th>\n",
       "      <th>healthy_life_expectancy</th>\n",
       "      <th>freedom_to_make_life_choices</th>\n",
       "      <th>generosity</th>\n",
       "      <th>perceptions_of_corruption</th>\n",
       "      <th>ladder_score_in_dystopia</th>\n",
       "      <th>explained_by:_log_gdp_per_capita</th>\n",
       "      <th>explained_by:_social_support</th>\n",
       "      <th>explained_by:_healthy_life_expectancy</th>\n",
       "      <th>explained_by:_freedom_to_make_life_choices</th>\n",
       "      <th>explained_by:_generosity</th>\n",
       "      <th>explained_by:_perceptions_of_corruption</th>\n",
       "      <th>dystopia_+_residual</th>\n",
       "    </tr>\n",
       "  </thead>\n",
       "  <tbody>\n",
       "    <tr>\n",
       "      <th>0</th>\n",
       "      <td>Afghanistan</td>\n",
       "      <td>1.8590</td>\n",
       "      <td>0.032506</td>\n",
       "      <td>1.922712</td>\n",
       "      <td>1.795288</td>\n",
       "      <td>7.324032</td>\n",
       "      <td>0.341341</td>\n",
       "      <td>54.712410</td>\n",
       "      <td>0.381642</td>\n",
       "      <td>-0.081011</td>\n",
       "      <td>0.847215</td>\n",
       "      <td>1.777825</td>\n",
       "      <td>0.644600</td>\n",
       "      <td>0.000000</td>\n",
       "      <td>0.086704</td>\n",
       "      <td>0.000000</td>\n",
       "      <td>0.092965</td>\n",
       "      <td>0.058644</td>\n",
       "      <td>0.976065</td>\n",
       "    </tr>\n",
       "    <tr>\n",
       "      <th>1</th>\n",
       "      <td>Albania</td>\n",
       "      <td>5.2773</td>\n",
       "      <td>0.065719</td>\n",
       "      <td>5.406110</td>\n",
       "      <td>5.148490</td>\n",
       "      <td>9.567472</td>\n",
       "      <td>0.717909</td>\n",
       "      <td>69.150070</td>\n",
       "      <td>0.794328</td>\n",
       "      <td>-0.006932</td>\n",
       "      <td>0.878094</td>\n",
       "      <td>1.777825</td>\n",
       "      <td>1.449203</td>\n",
       "      <td>0.951221</td>\n",
       "      <td>0.480082</td>\n",
       "      <td>0.549172</td>\n",
       "      <td>0.132712</td>\n",
       "      <td>0.036527</td>\n",
       "      <td>1.678425</td>\n",
       "    </tr>\n",
       "    <tr>\n",
       "      <th>2</th>\n",
       "      <td>Algeria</td>\n",
       "      <td>5.3291</td>\n",
       "      <td>0.062136</td>\n",
       "      <td>5.450887</td>\n",
       "      <td>5.207313</td>\n",
       "      <td>9.300214</td>\n",
       "      <td>0.855219</td>\n",
       "      <td>66.549232</td>\n",
       "      <td>0.571240</td>\n",
       "      <td>-0.117374</td>\n",
       "      <td>0.716906</td>\n",
       "      <td>1.777825</td>\n",
       "      <td>1.353352</td>\n",
       "      <td>1.298068</td>\n",
       "      <td>0.409218</td>\n",
       "      <td>0.252304</td>\n",
       "      <td>0.073455</td>\n",
       "      <td>0.151980</td>\n",
       "      <td>1.790695</td>\n",
       "    </tr>\n",
       "    <tr>\n",
       "      <th>3</th>\n",
       "      <td>Argentina</td>\n",
       "      <td>6.0237</td>\n",
       "      <td>0.062890</td>\n",
       "      <td>6.146965</td>\n",
       "      <td>5.900436</td>\n",
       "      <td>9.958788</td>\n",
       "      <td>0.890890</td>\n",
       "      <td>67.200081</td>\n",
       "      <td>0.822678</td>\n",
       "      <td>-0.089480</td>\n",
       "      <td>0.814013</td>\n",
       "      <td>1.777825</td>\n",
       "      <td>1.589548</td>\n",
       "      <td>1.388174</td>\n",
       "      <td>0.426952</td>\n",
       "      <td>0.586899</td>\n",
       "      <td>0.088421</td>\n",
       "      <td>0.082425</td>\n",
       "      <td>1.861257</td>\n",
       "    </tr>\n",
       "    <tr>\n",
       "      <th>4</th>\n",
       "      <td>Armenia</td>\n",
       "      <td>5.3417</td>\n",
       "      <td>0.065702</td>\n",
       "      <td>5.470475</td>\n",
       "      <td>5.212925</td>\n",
       "      <td>9.614713</td>\n",
       "      <td>0.790231</td>\n",
       "      <td>67.788971</td>\n",
       "      <td>0.795605</td>\n",
       "      <td>-0.155315</td>\n",
       "      <td>0.705434</td>\n",
       "      <td>1.777825</td>\n",
       "      <td>1.466146</td>\n",
       "      <td>1.133907</td>\n",
       "      <td>0.442997</td>\n",
       "      <td>0.550872</td>\n",
       "      <td>0.053097</td>\n",
       "      <td>0.160197</td>\n",
       "      <td>1.534475</td>\n",
       "    </tr>\n",
       "    <tr>\n",
       "      <th>...</th>\n",
       "      <td>...</td>\n",
       "      <td>...</td>\n",
       "      <td>...</td>\n",
       "      <td>...</td>\n",
       "      <td>...</td>\n",
       "      <td>...</td>\n",
       "      <td>...</td>\n",
       "      <td>...</td>\n",
       "      <td>...</td>\n",
       "      <td>...</td>\n",
       "      <td>...</td>\n",
       "      <td>...</td>\n",
       "      <td>...</td>\n",
       "      <td>...</td>\n",
       "      <td>...</td>\n",
       "      <td>...</td>\n",
       "      <td>...</td>\n",
       "      <td>...</td>\n",
       "      <td>...</td>\n",
       "    </tr>\n",
       "    <tr>\n",
       "      <th>132</th>\n",
       "      <td>Uzbekistan</td>\n",
       "      <td>6.0143</td>\n",
       "      <td>0.058900</td>\n",
       "      <td>6.129744</td>\n",
       "      <td>5.898856</td>\n",
       "      <td>8.948406</td>\n",
       "      <td>0.874754</td>\n",
       "      <td>65.300514</td>\n",
       "      <td>0.937915</td>\n",
       "      <td>0.229532</td>\n",
       "      <td>0.638172</td>\n",
       "      <td>1.777825</td>\n",
       "      <td>1.227177</td>\n",
       "      <td>1.347414</td>\n",
       "      <td>0.375195</td>\n",
       "      <td>0.740247</td>\n",
       "      <td>0.259586</td>\n",
       "      <td>0.208374</td>\n",
       "      <td>1.856308</td>\n",
       "    </tr>\n",
       "    <tr>\n",
       "      <th>133</th>\n",
       "      <td>Venezuela</td>\n",
       "      <td>5.2106</td>\n",
       "      <td>0.063895</td>\n",
       "      <td>5.335835</td>\n",
       "      <td>5.085365</td>\n",
       "      <td>5.526723</td>\n",
       "      <td>0.838825</td>\n",
       "      <td>64.049835</td>\n",
       "      <td>0.658707</td>\n",
       "      <td>0.128371</td>\n",
       "      <td>0.811435</td>\n",
       "      <td>1.777825</td>\n",
       "      <td>0.000000</td>\n",
       "      <td>1.256658</td>\n",
       "      <td>0.341118</td>\n",
       "      <td>0.368698</td>\n",
       "      <td>0.205308</td>\n",
       "      <td>0.084272</td>\n",
       "      <td>2.954561</td>\n",
       "    </tr>\n",
       "    <tr>\n",
       "      <th>134</th>\n",
       "      <td>Vietnam</td>\n",
       "      <td>5.7633</td>\n",
       "      <td>0.051805</td>\n",
       "      <td>5.864837</td>\n",
       "      <td>5.661763</td>\n",
       "      <td>9.286939</td>\n",
       "      <td>0.821143</td>\n",
       "      <td>65.502419</td>\n",
       "      <td>0.938641</td>\n",
       "      <td>-0.003643</td>\n",
       "      <td>0.758844</td>\n",
       "      <td>1.777825</td>\n",
       "      <td>1.348591</td>\n",
       "      <td>1.211991</td>\n",
       "      <td>0.380696</td>\n",
       "      <td>0.741213</td>\n",
       "      <td>0.134477</td>\n",
       "      <td>0.121941</td>\n",
       "      <td>1.824439</td>\n",
       "    </tr>\n",
       "    <tr>\n",
       "      <th>135</th>\n",
       "      <td>Zambia</td>\n",
       "      <td>3.9822</td>\n",
       "      <td>0.094396</td>\n",
       "      <td>4.167217</td>\n",
       "      <td>3.797183</td>\n",
       "      <td>8.073852</td>\n",
       "      <td>0.693536</td>\n",
       "      <td>55.032139</td>\n",
       "      <td>0.790871</td>\n",
       "      <td>0.098389</td>\n",
       "      <td>0.817557</td>\n",
       "      <td>1.777825</td>\n",
       "      <td>0.913520</td>\n",
       "      <td>0.889654</td>\n",
       "      <td>0.095416</td>\n",
       "      <td>0.544573</td>\n",
       "      <td>0.189222</td>\n",
       "      <td>0.079887</td>\n",
       "      <td>1.269958</td>\n",
       "    </tr>\n",
       "    <tr>\n",
       "      <th>136</th>\n",
       "      <td>Zimbabwe</td>\n",
       "      <td>3.2035</td>\n",
       "      <td>0.060865</td>\n",
       "      <td>3.322795</td>\n",
       "      <td>3.084205</td>\n",
       "      <td>7.640998</td>\n",
       "      <td>0.689918</td>\n",
       "      <td>54.049889</td>\n",
       "      <td>0.654055</td>\n",
       "      <td>-0.046230</td>\n",
       "      <td>0.765582</td>\n",
       "      <td>1.777825</td>\n",
       "      <td>0.758279</td>\n",
       "      <td>0.880513</td>\n",
       "      <td>0.068653</td>\n",
       "      <td>0.362508</td>\n",
       "      <td>0.111627</td>\n",
       "      <td>0.117115</td>\n",
       "      <td>0.904856</td>\n",
       "    </tr>\n",
       "  </tbody>\n",
       "</table>\n",
       "<p>137 rows × 19 columns</p>\n",
       "</div>"
      ],
      "text/plain": [
       "    country_name  ladder_score  standard_error_of_ladder_score  upperwhisker  \\\n",
       "0    Afghanistan        1.8590                        0.032506      1.922712   \n",
       "1        Albania        5.2773                        0.065719      5.406110   \n",
       "2        Algeria        5.3291                        0.062136      5.450887   \n",
       "3      Argentina        6.0237                        0.062890      6.146965   \n",
       "4        Armenia        5.3417                        0.065702      5.470475   \n",
       "..           ...           ...                             ...           ...   \n",
       "132   Uzbekistan        6.0143                        0.058900      6.129744   \n",
       "133    Venezuela        5.2106                        0.063895      5.335835   \n",
       "134      Vietnam        5.7633                        0.051805      5.864837   \n",
       "135       Zambia        3.9822                        0.094396      4.167217   \n",
       "136     Zimbabwe        3.2035                        0.060865      3.322795   \n",
       "\n",
       "     lowerwhisker  logged_gdp_per_capita  social_support  \\\n",
       "0        1.795288               7.324032        0.341341   \n",
       "1        5.148490               9.567472        0.717909   \n",
       "2        5.207313               9.300214        0.855219   \n",
       "3        5.900436               9.958788        0.890890   \n",
       "4        5.212925               9.614713        0.790231   \n",
       "..            ...                    ...             ...   \n",
       "132      5.898856               8.948406        0.874754   \n",
       "133      5.085365               5.526723        0.838825   \n",
       "134      5.661763               9.286939        0.821143   \n",
       "135      3.797183               8.073852        0.693536   \n",
       "136      3.084205               7.640998        0.689918   \n",
       "\n",
       "     healthy_life_expectancy  freedom_to_make_life_choices  generosity  \\\n",
       "0                  54.712410                      0.381642   -0.081011   \n",
       "1                  69.150070                      0.794328   -0.006932   \n",
       "2                  66.549232                      0.571240   -0.117374   \n",
       "3                  67.200081                      0.822678   -0.089480   \n",
       "4                  67.788971                      0.795605   -0.155315   \n",
       "..                       ...                           ...         ...   \n",
       "132                65.300514                      0.937915    0.229532   \n",
       "133                64.049835                      0.658707    0.128371   \n",
       "134                65.502419                      0.938641   -0.003643   \n",
       "135                55.032139                      0.790871    0.098389   \n",
       "136                54.049889                      0.654055   -0.046230   \n",
       "\n",
       "     perceptions_of_corruption  ladder_score_in_dystopia  \\\n",
       "0                     0.847215                  1.777825   \n",
       "1                     0.878094                  1.777825   \n",
       "2                     0.716906                  1.777825   \n",
       "3                     0.814013                  1.777825   \n",
       "4                     0.705434                  1.777825   \n",
       "..                         ...                       ...   \n",
       "132                   0.638172                  1.777825   \n",
       "133                   0.811435                  1.777825   \n",
       "134                   0.758844                  1.777825   \n",
       "135                   0.817557                  1.777825   \n",
       "136                   0.765582                  1.777825   \n",
       "\n",
       "     explained_by:_log_gdp_per_capita  explained_by:_social_support  \\\n",
       "0                            0.644600                      0.000000   \n",
       "1                            1.449203                      0.951221   \n",
       "2                            1.353352                      1.298068   \n",
       "3                            1.589548                      1.388174   \n",
       "4                            1.466146                      1.133907   \n",
       "..                                ...                           ...   \n",
       "132                          1.227177                      1.347414   \n",
       "133                          0.000000                      1.256658   \n",
       "134                          1.348591                      1.211991   \n",
       "135                          0.913520                      0.889654   \n",
       "136                          0.758279                      0.880513   \n",
       "\n",
       "     explained_by:_healthy_life_expectancy  \\\n",
       "0                                 0.086704   \n",
       "1                                 0.480082   \n",
       "2                                 0.409218   \n",
       "3                                 0.426952   \n",
       "4                                 0.442997   \n",
       "..                                     ...   \n",
       "132                               0.375195   \n",
       "133                               0.341118   \n",
       "134                               0.380696   \n",
       "135                               0.095416   \n",
       "136                               0.068653   \n",
       "\n",
       "     explained_by:_freedom_to_make_life_choices  explained_by:_generosity  \\\n",
       "0                                      0.000000                  0.092965   \n",
       "1                                      0.549172                  0.132712   \n",
       "2                                      0.252304                  0.073455   \n",
       "3                                      0.586899                  0.088421   \n",
       "4                                      0.550872                  0.053097   \n",
       "..                                          ...                       ...   \n",
       "132                                    0.740247                  0.259586   \n",
       "133                                    0.368698                  0.205308   \n",
       "134                                    0.741213                  0.134477   \n",
       "135                                    0.544573                  0.189222   \n",
       "136                                    0.362508                  0.111627   \n",
       "\n",
       "     explained_by:_perceptions_of_corruption  dystopia_+_residual  \n",
       "0                                   0.058644             0.976065  \n",
       "1                                   0.036527             1.678425  \n",
       "2                                   0.151980             1.790695  \n",
       "3                                   0.082425             1.861257  \n",
       "4                                   0.160197             1.534475  \n",
       "..                                       ...                  ...  \n",
       "132                                 0.208374             1.856308  \n",
       "133                                 0.084272             2.954561  \n",
       "134                                 0.121941             1.824439  \n",
       "135                                 0.079887             1.269958  \n",
       "136                                 0.117115             0.904856  \n",
       "\n",
       "[137 rows x 19 columns]"
      ]
     },
     "execution_count": 3,
     "metadata": {},
     "output_type": "execute_result"
    }
   ],
   "source": [
    "data = pd.read_excel('DataForFigure2.1WHR2023.xls')\n",
    "data.columns = [x.lower() for x in data.columns]\n",
    "data.columns = data.columns.str.replace(' ', '_')\n",
    "data = data.sort_values(\"country_name\").reset_index(drop=True)\n",
    "\n",
    "data"
   ]
  },
  {
   "attachments": {},
   "cell_type": "markdown",
   "metadata": {},
   "source": [
    "According to the report, the *ladder score* is a measure based on the answers of people thinking of themselves as a ladder, with the best possible life for them being a 10 and the worst possible life being a 0. "
   ]
  },
  {
   "cell_type": "code",
   "execution_count": 3,
   "metadata": {},
   "outputs": [
    {
     "name": "stdout",
     "output_type": "stream",
     "text": [
      "Index(['country_name', 'ladder_score', 'standard_error_of_ladder_score',\n",
      "       'upperwhisker', 'lowerwhisker', 'logged_gdp_per_capita',\n",
      "       'social_support', 'healthy_life_expectancy',\n",
      "       'freedom_to_make_life_choices', 'generosity',\n",
      "       'perceptions_of_corruption', 'ladder_score_in_dystopia',\n",
      "       'explained_by:_log_gdp_per_capita', 'explained_by:_social_support',\n",
      "       'explained_by:_healthy_life_expectancy',\n",
      "       'explained_by:_freedom_to_make_life_choices',\n",
      "       'explained_by:_generosity', 'explained_by:_perceptions_of_corruption',\n",
      "       'dystopia_+_residual'],\n",
      "      dtype='object')\n"
     ]
    }
   ],
   "source": [
    "print(data.columns)"
   ]
  },
  {
   "attachments": {},
   "cell_type": "markdown",
   "metadata": {},
   "source": [
    "We want to know which country has the highest and the lowest value in each column, so we are setting up a new dataframe with those values"
   ]
  },
  {
   "cell_type": "code",
   "execution_count": 4,
   "metadata": {},
   "outputs": [],
   "source": [
    "dfmax = data.max()\n",
    "dfmin = data.min()"
   ]
  },
  {
   "cell_type": "code",
   "execution_count": null,
   "metadata": {},
   "outputs": [
    {
     "data": {
      "text/html": [
       "<div>\n",
       "<style scoped>\n",
       "    .dataframe tbody tr th:only-of-type {\n",
       "        vertical-align: middle;\n",
       "    }\n",
       "\n",
       "    .dataframe tbody tr th {\n",
       "        vertical-align: top;\n",
       "    }\n",
       "\n",
       "    .dataframe thead th {\n",
       "        text-align: right;\n",
       "    }\n",
       "</style>\n",
       "<table border=\"1\" class=\"dataframe\">\n",
       "  <thead>\n",
       "    <tr style=\"text-align: right;\">\n",
       "      <th></th>\n",
       "      <th>country_name</th>\n",
       "      <th>standard_error_of_ladder_score</th>\n",
       "    </tr>\n",
       "  </thead>\n",
       "  <tbody>\n",
       "    <tr>\n",
       "      <th>78</th>\n",
       "      <td>Mauritania</td>\n",
       "      <td>0.146538</td>\n",
       "    </tr>\n",
       "  </tbody>\n",
       "</table>\n",
       "</div>"
      ],
      "text/plain": [
       "   country_name  standard_error_of_ladder_score\n",
       "78   Mauritania                        0.146538"
      ]
     },
     "execution_count": 124,
     "metadata": {},
     "output_type": "execute_result"
    }
   ],
   "source": [
    "data.iloc[0,1]\n",
    "data.iloc[0][1]\n",
    "data[data[df.index[1]]==df[1]][[df.index[0], df.index[1]]]\n",
    "data[data[df.index[2]]==df[2]][[df.index[0], df.index[2]]]"
   ]
  },
  {
   "cell_type": "code",
   "execution_count": 5,
   "metadata": {},
   "outputs": [],
   "source": [
    "dictmax = []\n",
    "dictmin = []\n",
    "for i in range(1,data.shape[1]):\n",
    "    pais = data[data[dfmax.index[i]]==dfmax[i]][dfmax.index[0]].values[0]\n",
    "    valor = data[data[dfmax.index[i]]==dfmax[i]][dfmax.index[i]].values[0]\n",
    "    nome = data[data[dfmax.index[i]]==dfmax[i]][dfmax.index[i]].name\n",
    "\n",
    "    pais1 = data[data[dfmin.index[i]]==dfmin[i]][dfmin.index[0]].values[0]\n",
    "    valor1 = data[data[dfmin.index[i]]==dfmin[i]][dfmin.index[i]].values[0]\n",
    "    nome1 = data[data[dfmin.index[i]]==dfmin[i]][dfmin.index[i]].name\n",
    "\n",
    "    dictmax.append({'country_name': pais,'col_name':nome ,'max_col_value':valor, })\n",
    "    dictmin.append({'country_name': pais1,'col_name':nome1 ,'min_col_value':valor1, })\n"
   ]
  },
  {
   "attachments": {},
   "cell_type": "markdown",
   "metadata": {},
   "source": [
    "## Dataframe showing maximum column values per country"
   ]
  },
  {
   "cell_type": "code",
   "execution_count": 6,
   "metadata": {},
   "outputs": [
    {
     "data": {
      "text/html": [
       "<div>\n",
       "<style scoped>\n",
       "    .dataframe tbody tr th:only-of-type {\n",
       "        vertical-align: middle;\n",
       "    }\n",
       "\n",
       "    .dataframe tbody tr th {\n",
       "        vertical-align: top;\n",
       "    }\n",
       "\n",
       "    .dataframe thead th {\n",
       "        text-align: right;\n",
       "    }\n",
       "</style>\n",
       "<table border=\"1\" class=\"dataframe\">\n",
       "  <thead>\n",
       "    <tr style=\"text-align: right;\">\n",
       "      <th></th>\n",
       "      <th>country_name</th>\n",
       "      <th>col_name</th>\n",
       "      <th>max_col_value</th>\n",
       "    </tr>\n",
       "  </thead>\n",
       "  <tbody>\n",
       "    <tr>\n",
       "      <th>0</th>\n",
       "      <td>Finland</td>\n",
       "      <td>ladder_score</td>\n",
       "      <td>7.804200</td>\n",
       "    </tr>\n",
       "    <tr>\n",
       "      <th>1</th>\n",
       "      <td>Mauritania</td>\n",
       "      <td>standard_error_of_ladder_score</td>\n",
       "      <td>0.146538</td>\n",
       "    </tr>\n",
       "    <tr>\n",
       "      <th>2</th>\n",
       "      <td>Finland</td>\n",
       "      <td>upperwhisker</td>\n",
       "      <td>7.875078</td>\n",
       "    </tr>\n",
       "    <tr>\n",
       "      <th>3</th>\n",
       "      <td>Finland</td>\n",
       "      <td>lowerwhisker</td>\n",
       "      <td>7.733322</td>\n",
       "    </tr>\n",
       "    <tr>\n",
       "      <th>4</th>\n",
       "      <td>Luxembourg</td>\n",
       "      <td>logged_gdp_per_capita</td>\n",
       "      <td>11.659949</td>\n",
       "    </tr>\n",
       "    <tr>\n",
       "      <th>5</th>\n",
       "      <td>Iceland</td>\n",
       "      <td>social_support</td>\n",
       "      <td>0.982533</td>\n",
       "    </tr>\n",
       "    <tr>\n",
       "      <th>6</th>\n",
       "      <td>Hong Kong S.A.R. of China</td>\n",
       "      <td>healthy_life_expectancy</td>\n",
       "      <td>77.279778</td>\n",
       "    </tr>\n",
       "    <tr>\n",
       "      <th>7</th>\n",
       "      <td>Finland</td>\n",
       "      <td>freedom_to_make_life_choices</td>\n",
       "      <td>0.961408</td>\n",
       "    </tr>\n",
       "    <tr>\n",
       "      <th>8</th>\n",
       "      <td>Indonesia</td>\n",
       "      <td>generosity</td>\n",
       "      <td>0.531386</td>\n",
       "    </tr>\n",
       "    <tr>\n",
       "      <th>9</th>\n",
       "      <td>Romania</td>\n",
       "      <td>perceptions_of_corruption</td>\n",
       "      <td>0.929089</td>\n",
       "    </tr>\n",
       "    <tr>\n",
       "      <th>10</th>\n",
       "      <td>Afghanistan</td>\n",
       "      <td>ladder_score_in_dystopia</td>\n",
       "      <td>1.777825</td>\n",
       "    </tr>\n",
       "    <tr>\n",
       "      <th>11</th>\n",
       "      <td>Luxembourg</td>\n",
       "      <td>explained_by:_log_gdp_per_capita</td>\n",
       "      <td>2.199664</td>\n",
       "    </tr>\n",
       "    <tr>\n",
       "      <th>12</th>\n",
       "      <td>Iceland</td>\n",
       "      <td>explained_by:_social_support</td>\n",
       "      <td>1.619666</td>\n",
       "    </tr>\n",
       "    <tr>\n",
       "      <th>13</th>\n",
       "      <td>Hong Kong S.A.R. of China</td>\n",
       "      <td>explained_by:_healthy_life_expectancy</td>\n",
       "      <td>0.701590</td>\n",
       "    </tr>\n",
       "    <tr>\n",
       "      <th>14</th>\n",
       "      <td>Finland</td>\n",
       "      <td>explained_by:_freedom_to_make_life_choices</td>\n",
       "      <td>0.771510</td>\n",
       "    </tr>\n",
       "    <tr>\n",
       "      <th>15</th>\n",
       "      <td>Indonesia</td>\n",
       "      <td>explained_by:_generosity</td>\n",
       "      <td>0.421545</td>\n",
       "    </tr>\n",
       "    <tr>\n",
       "      <th>16</th>\n",
       "      <td>Singapore</td>\n",
       "      <td>explained_by:_perceptions_of_corruption</td>\n",
       "      <td>0.560821</td>\n",
       "    </tr>\n",
       "    <tr>\n",
       "      <th>17</th>\n",
       "      <td>Venezuela</td>\n",
       "      <td>dystopia_+_residual</td>\n",
       "      <td>2.954561</td>\n",
       "    </tr>\n",
       "  </tbody>\n",
       "</table>\n",
       "</div>"
      ],
      "text/plain": [
       "                 country_name                                    col_name  \\\n",
       "0                     Finland                                ladder_score   \n",
       "1                  Mauritania              standard_error_of_ladder_score   \n",
       "2                     Finland                                upperwhisker   \n",
       "3                     Finland                                lowerwhisker   \n",
       "4                  Luxembourg                       logged_gdp_per_capita   \n",
       "5                     Iceland                              social_support   \n",
       "6   Hong Kong S.A.R. of China                     healthy_life_expectancy   \n",
       "7                     Finland                freedom_to_make_life_choices   \n",
       "8                   Indonesia                                  generosity   \n",
       "9                     Romania                   perceptions_of_corruption   \n",
       "10                Afghanistan                    ladder_score_in_dystopia   \n",
       "11                 Luxembourg            explained_by:_log_gdp_per_capita   \n",
       "12                    Iceland                explained_by:_social_support   \n",
       "13  Hong Kong S.A.R. of China       explained_by:_healthy_life_expectancy   \n",
       "14                    Finland  explained_by:_freedom_to_make_life_choices   \n",
       "15                  Indonesia                    explained_by:_generosity   \n",
       "16                  Singapore     explained_by:_perceptions_of_corruption   \n",
       "17                  Venezuela                         dystopia_+_residual   \n",
       "\n",
       "    max_col_value  \n",
       "0        7.804200  \n",
       "1        0.146538  \n",
       "2        7.875078  \n",
       "3        7.733322  \n",
       "4       11.659949  \n",
       "5        0.982533  \n",
       "6       77.279778  \n",
       "7        0.961408  \n",
       "8        0.531386  \n",
       "9        0.929089  \n",
       "10       1.777825  \n",
       "11       2.199664  \n",
       "12       1.619666  \n",
       "13       0.701590  \n",
       "14       0.771510  \n",
       "15       0.421545  \n",
       "16       0.560821  \n",
       "17       2.954561  "
      ]
     },
     "execution_count": 6,
     "metadata": {},
     "output_type": "execute_result"
    }
   ],
   "source": [
    "df2 = pd.DataFrame(dictmax)\n",
    "df2"
   ]
  },
  {
   "attachments": {},
   "cell_type": "markdown",
   "metadata": {},
   "source": [
    "## Dataframe showing minimum column values per country"
   ]
  },
  {
   "cell_type": "code",
   "execution_count": 7,
   "metadata": {},
   "outputs": [
    {
     "data": {
      "text/html": [
       "<div>\n",
       "<style scoped>\n",
       "    .dataframe tbody tr th:only-of-type {\n",
       "        vertical-align: middle;\n",
       "    }\n",
       "\n",
       "    .dataframe tbody tr th {\n",
       "        vertical-align: top;\n",
       "    }\n",
       "\n",
       "    .dataframe thead th {\n",
       "        text-align: right;\n",
       "    }\n",
       "</style>\n",
       "<table border=\"1\" class=\"dataframe\">\n",
       "  <thead>\n",
       "    <tr style=\"text-align: right;\">\n",
       "      <th></th>\n",
       "      <th>country_name</th>\n",
       "      <th>col_name</th>\n",
       "      <th>min_col_value</th>\n",
       "    </tr>\n",
       "  </thead>\n",
       "  <tbody>\n",
       "    <tr>\n",
       "      <th>0</th>\n",
       "      <td>Afghanistan</td>\n",
       "      <td>ladder_score</td>\n",
       "      <td>1.859000</td>\n",
       "    </tr>\n",
       "    <tr>\n",
       "      <th>1</th>\n",
       "      <td>India</td>\n",
       "      <td>standard_error_of_ladder_score</td>\n",
       "      <td>0.028552</td>\n",
       "    </tr>\n",
       "    <tr>\n",
       "      <th>2</th>\n",
       "      <td>Afghanistan</td>\n",
       "      <td>upperwhisker</td>\n",
       "      <td>1.922712</td>\n",
       "    </tr>\n",
       "    <tr>\n",
       "      <th>3</th>\n",
       "      <td>Afghanistan</td>\n",
       "      <td>lowerwhisker</td>\n",
       "      <td>1.795288</td>\n",
       "    </tr>\n",
       "    <tr>\n",
       "      <th>4</th>\n",
       "      <td>Venezuela</td>\n",
       "      <td>logged_gdp_per_capita</td>\n",
       "      <td>5.526723</td>\n",
       "    </tr>\n",
       "    <tr>\n",
       "      <th>5</th>\n",
       "      <td>Afghanistan</td>\n",
       "      <td>social_support</td>\n",
       "      <td>0.341341</td>\n",
       "    </tr>\n",
       "    <tr>\n",
       "      <th>6</th>\n",
       "      <td>Mozambique</td>\n",
       "      <td>healthy_life_expectancy</td>\n",
       "      <td>51.530212</td>\n",
       "    </tr>\n",
       "    <tr>\n",
       "      <th>7</th>\n",
       "      <td>Afghanistan</td>\n",
       "      <td>freedom_to_make_life_choices</td>\n",
       "      <td>0.381642</td>\n",
       "    </tr>\n",
       "    <tr>\n",
       "      <th>8</th>\n",
       "      <td>Georgia</td>\n",
       "      <td>generosity</td>\n",
       "      <td>-0.254276</td>\n",
       "    </tr>\n",
       "    <tr>\n",
       "      <th>9</th>\n",
       "      <td>Singapore</td>\n",
       "      <td>perceptions_of_corruption</td>\n",
       "      <td>0.146112</td>\n",
       "    </tr>\n",
       "    <tr>\n",
       "      <th>10</th>\n",
       "      <td>Afghanistan</td>\n",
       "      <td>ladder_score_in_dystopia</td>\n",
       "      <td>1.777825</td>\n",
       "    </tr>\n",
       "    <tr>\n",
       "      <th>11</th>\n",
       "      <td>Venezuela</td>\n",
       "      <td>explained_by:_log_gdp_per_capita</td>\n",
       "      <td>0.000000</td>\n",
       "    </tr>\n",
       "    <tr>\n",
       "      <th>12</th>\n",
       "      <td>Afghanistan</td>\n",
       "      <td>explained_by:_social_support</td>\n",
       "      <td>0.000000</td>\n",
       "    </tr>\n",
       "    <tr>\n",
       "      <th>13</th>\n",
       "      <td>Mozambique</td>\n",
       "      <td>explained_by:_healthy_life_expectancy</td>\n",
       "      <td>0.000000</td>\n",
       "    </tr>\n",
       "    <tr>\n",
       "      <th>14</th>\n",
       "      <td>Afghanistan</td>\n",
       "      <td>explained_by:_freedom_to_make_life_choices</td>\n",
       "      <td>0.000000</td>\n",
       "    </tr>\n",
       "    <tr>\n",
       "      <th>15</th>\n",
       "      <td>Georgia</td>\n",
       "      <td>explained_by:_generosity</td>\n",
       "      <td>0.000000</td>\n",
       "    </tr>\n",
       "    <tr>\n",
       "      <th>16</th>\n",
       "      <td>Romania</td>\n",
       "      <td>explained_by:_perceptions_of_corruption</td>\n",
       "      <td>0.000000</td>\n",
       "    </tr>\n",
       "    <tr>\n",
       "      <th>17</th>\n",
       "      <td>Lebanon</td>\n",
       "      <td>dystopia_+_residual</td>\n",
       "      <td>-0.109798</td>\n",
       "    </tr>\n",
       "  </tbody>\n",
       "</table>\n",
       "</div>"
      ],
      "text/plain": [
       "   country_name                                    col_name  min_col_value\n",
       "0   Afghanistan                                ladder_score       1.859000\n",
       "1         India              standard_error_of_ladder_score       0.028552\n",
       "2   Afghanistan                                upperwhisker       1.922712\n",
       "3   Afghanistan                                lowerwhisker       1.795288\n",
       "4     Venezuela                       logged_gdp_per_capita       5.526723\n",
       "5   Afghanistan                              social_support       0.341341\n",
       "6    Mozambique                     healthy_life_expectancy      51.530212\n",
       "7   Afghanistan                freedom_to_make_life_choices       0.381642\n",
       "8       Georgia                                  generosity      -0.254276\n",
       "9     Singapore                   perceptions_of_corruption       0.146112\n",
       "10  Afghanistan                    ladder_score_in_dystopia       1.777825\n",
       "11    Venezuela            explained_by:_log_gdp_per_capita       0.000000\n",
       "12  Afghanistan                explained_by:_social_support       0.000000\n",
       "13   Mozambique       explained_by:_healthy_life_expectancy       0.000000\n",
       "14  Afghanistan  explained_by:_freedom_to_make_life_choices       0.000000\n",
       "15      Georgia                    explained_by:_generosity       0.000000\n",
       "16      Romania     explained_by:_perceptions_of_corruption       0.000000\n",
       "17      Lebanon                         dystopia_+_residual      -0.109798"
      ]
     },
     "execution_count": 7,
     "metadata": {},
     "output_type": "execute_result"
    }
   ],
   "source": [
    "df3 = pd.DataFrame(dictmin)\n",
    "df3"
   ]
  },
  {
   "cell_type": "code",
   "execution_count": 8,
   "metadata": {},
   "outputs": [
    {
     "data": {
      "text/html": [
       "<div>\n",
       "<style scoped>\n",
       "    .dataframe tbody tr th:only-of-type {\n",
       "        vertical-align: middle;\n",
       "    }\n",
       "\n",
       "    .dataframe tbody tr th {\n",
       "        vertical-align: top;\n",
       "    }\n",
       "\n",
       "    .dataframe thead th {\n",
       "        text-align: right;\n",
       "    }\n",
       "</style>\n",
       "<table border=\"1\" class=\"dataframe\">\n",
       "  <thead>\n",
       "    <tr style=\"text-align: right;\">\n",
       "      <th></th>\n",
       "      <th>ladder_score</th>\n",
       "      <th>standard_error_of_ladder_score</th>\n",
       "      <th>upperwhisker</th>\n",
       "      <th>lowerwhisker</th>\n",
       "      <th>logged_gdp_per_capita</th>\n",
       "      <th>social_support</th>\n",
       "      <th>healthy_life_expectancy</th>\n",
       "      <th>freedom_to_make_life_choices</th>\n",
       "      <th>generosity</th>\n",
       "      <th>perceptions_of_corruption</th>\n",
       "      <th>ladder_score_in_dystopia</th>\n",
       "      <th>explained_by:_log_gdp_per_capita</th>\n",
       "      <th>explained_by:_social_support</th>\n",
       "      <th>explained_by:_healthy_life_expectancy</th>\n",
       "      <th>explained_by:_freedom_to_make_life_choices</th>\n",
       "      <th>explained_by:_generosity</th>\n",
       "      <th>explained_by:_perceptions_of_corruption</th>\n",
       "      <th>dystopia_+_residual</th>\n",
       "    </tr>\n",
       "  </thead>\n",
       "  <tbody>\n",
       "    <tr>\n",
       "      <th>min</th>\n",
       "      <td>1.859000</td>\n",
       "      <td>0.028552</td>\n",
       "      <td>1.922712</td>\n",
       "      <td>1.795288</td>\n",
       "      <td>5.526723</td>\n",
       "      <td>0.341341</td>\n",
       "      <td>51.530212</td>\n",
       "      <td>0.381642</td>\n",
       "      <td>-0.254276</td>\n",
       "      <td>0.146112</td>\n",
       "      <td>1.777825</td>\n",
       "      <td>0.000000</td>\n",
       "      <td>0.000000</td>\n",
       "      <td>0.000000</td>\n",
       "      <td>0.000000</td>\n",
       "      <td>0.000000</td>\n",
       "      <td>0.000000</td>\n",
       "      <td>-0.109798</td>\n",
       "    </tr>\n",
       "    <tr>\n",
       "      <th>max</th>\n",
       "      <td>7.804200</td>\n",
       "      <td>0.146538</td>\n",
       "      <td>7.875078</td>\n",
       "      <td>7.733322</td>\n",
       "      <td>11.659949</td>\n",
       "      <td>0.982533</td>\n",
       "      <td>77.279778</td>\n",
       "      <td>0.961408</td>\n",
       "      <td>0.531386</td>\n",
       "      <td>0.929089</td>\n",
       "      <td>1.777825</td>\n",
       "      <td>2.199664</td>\n",
       "      <td>1.619666</td>\n",
       "      <td>0.701590</td>\n",
       "      <td>0.771510</td>\n",
       "      <td>0.421545</td>\n",
       "      <td>0.560821</td>\n",
       "      <td>2.954561</td>\n",
       "    </tr>\n",
       "    <tr>\n",
       "      <th>mean</th>\n",
       "      <td>5.539755</td>\n",
       "      <td>0.064672</td>\n",
       "      <td>5.666513</td>\n",
       "      <td>5.412998</td>\n",
       "      <td>9.449785</td>\n",
       "      <td>0.799045</td>\n",
       "      <td>64.967627</td>\n",
       "      <td>0.787427</td>\n",
       "      <td>0.022444</td>\n",
       "      <td>0.725375</td>\n",
       "      <td>1.777825</td>\n",
       "      <td>1.406995</td>\n",
       "      <td>1.156171</td>\n",
       "      <td>0.366125</td>\n",
       "      <td>0.539989</td>\n",
       "      <td>0.148474</td>\n",
       "      <td>0.145914</td>\n",
       "      <td>1.777825</td>\n",
       "    </tr>\n",
       "  </tbody>\n",
       "</table>\n",
       "</div>"
      ],
      "text/plain": [
       "      ladder_score  standard_error_of_ladder_score  upperwhisker  \\\n",
       "min       1.859000                        0.028552      1.922712   \n",
       "max       7.804200                        0.146538      7.875078   \n",
       "mean      5.539755                        0.064672      5.666513   \n",
       "\n",
       "      lowerwhisker  logged_gdp_per_capita  social_support  \\\n",
       "min       1.795288               5.526723        0.341341   \n",
       "max       7.733322              11.659949        0.982533   \n",
       "mean      5.412998               9.449785        0.799045   \n",
       "\n",
       "      healthy_life_expectancy  freedom_to_make_life_choices  generosity  \\\n",
       "min                 51.530212                      0.381642   -0.254276   \n",
       "max                 77.279778                      0.961408    0.531386   \n",
       "mean                64.967627                      0.787427    0.022444   \n",
       "\n",
       "      perceptions_of_corruption  ladder_score_in_dystopia  \\\n",
       "min                    0.146112                  1.777825   \n",
       "max                    0.929089                  1.777825   \n",
       "mean                   0.725375                  1.777825   \n",
       "\n",
       "      explained_by:_log_gdp_per_capita  explained_by:_social_support  \\\n",
       "min                           0.000000                      0.000000   \n",
       "max                           2.199664                      1.619666   \n",
       "mean                          1.406995                      1.156171   \n",
       "\n",
       "      explained_by:_healthy_life_expectancy  \\\n",
       "min                                0.000000   \n",
       "max                                0.701590   \n",
       "mean                               0.366125   \n",
       "\n",
       "      explained_by:_freedom_to_make_life_choices  explained_by:_generosity  \\\n",
       "min                                     0.000000                  0.000000   \n",
       "max                                     0.771510                  0.421545   \n",
       "mean                                    0.539989                  0.148474   \n",
       "\n",
       "      explained_by:_perceptions_of_corruption  dystopia_+_residual  \n",
       "min                                  0.000000            -0.109798  \n",
       "max                                  0.560821             2.954561  \n",
       "mean                                 0.145914             1.777825  "
      ]
     },
     "execution_count": 8,
     "metadata": {},
     "output_type": "execute_result"
    }
   ],
   "source": [
    "data.describe().loc[['min','max','mean']]"
   ]
  },
  {
   "attachments": {},
   "cell_type": "markdown",
   "metadata": {},
   "source": [
    "As shown above, in Finland people consider as having the best life among all countries, as in Afghanistan this is the total opposite.\n",
    "\n",
    "Also, Luxembourg shows as the highest GDP per capita.\n",
    "\n",
    "Hong Kong has the highest life expectancy and in Finland people are considered the most free to make life choices.\n",
    "\n",
    "Now let's see if any of the values correlate to each other."
   ]
  },
  {
   "cell_type": "code",
   "execution_count": 10,
   "metadata": {},
   "outputs": [
    {
     "data": {
      "image/png": "[encoded data removed]",
      "text/plain": [
       "<Figure size 1500x1500 with 2 Axes>"
      ]
     },
     "metadata": {},
     "output_type": "display_data"
    }
   ],
   "source": [
    "# plotting correlation heatmap\n",
    "\n",
    "# selecting less columns than entire dataframe\n",
    "dataheat = data[['country_name', 'ladder_score', 'standard_error_of_ladder_score',\n",
    "       'logged_gdp_per_capita',\n",
    "       'social_support', 'healthy_life_expectancy',\n",
    "       'freedom_to_make_life_choices', 'generosity',\n",
    "       'perceptions_of_corruption', 'ladder_score_in_dystopia',\n",
    "          'dystopia_+_residual']]\n",
    "\n",
    "fig, ax = plt.subplots(figsize=(15,15))\n",
    "dataplot = sb.heatmap(dataheat.corr(), cmap=\"YlGnBu\", annot=True, ax=ax)\n",
    "  \n",
    "# displaying heatmap\n",
    "plt.show()"
   ]
  },
  {
   "attachments": {},
   "cell_type": "markdown",
   "metadata": {},
   "source": [
    "Ladder score has a very high correlation to social support, which makes sense, since assisted people feel safer that other people are taking care of them.\n",
    "\n",
    "Healthy life expectancy is highly correlated with GDP per capita, ladder score and social support. This is explained by the fact that a wealthy person has the means to access all sorts of areas that may improve their health, which can be the best doctors, the best hospitals, knowledge, nutrition and exercising, things that cost a lot of money nowadays. Also they can buy access to the best practices, what may optimize their health, as long as they live on healthy habits."
   ]
  },
  {
   "cell_type": "code",
   "execution_count": 11,
   "metadata": {},
   "outputs": [
    {
     "data": {
      "text/plain": [
       "<matplotlib.collections.PathCollection at 0x1a0cbbce670>"
      ]
     },
     "execution_count": 11,
     "metadata": {},
     "output_type": "execute_result"
    },
    {
     "data": {
      "image/png": "[encoded data removed]",
      "text/plain": [
       "<Figure size 640x480 with 1 Axes>"
      ]
     },
     "metadata": {},
     "output_type": "display_data"
    }
   ],
   "source": [
    "# healthy life expectancy vs gdp per capita\n",
    "# data[['country_name','logged_gdp_per_capita','social_support','healthy_life_expectancy'  ]]\n",
    "plt.scatter(data['healthy_life_expectancy'], data['logged_gdp_per_capita'])"
   ]
  },
  {
   "cell_type": "code",
   "execution_count": 5,
   "metadata": {},
   "outputs": [
    {
     "data": {
      "image/png": "[encoded data removed]",
      "text/plain": [
       "<Figure size 640x480 with 1 Axes>"
      ]
     },
     "metadata": {},
     "output_type": "display_data"
    }
   ],
   "source": [
    "plt.violinplot(data[\"ladder_score\"])\n",
    "plt.show()"
   ]
  },
  {
   "cell_type": "code",
   "execution_count": 35,
   "metadata": {},
   "outputs": [
    {
     "data": {
      "application/vnd.plotly.v1+json": {
       "config": {
        "plotlyServerURL": "https://plot.ly"
       },
       "data": [
        {
         "alignmentgroup": "True",
         "box": {
          "visible": true
         },
         "hovertemplate": "ladder_score=%{y}<extra></extra>",
         "legendgroup": "",
         "marker": {
          "color": "#636efa"
         },
         "name": "",
         "offsetgroup": "",
         "orientation": "v",
         "points": "all",
         "scalegroup": "True",
         "showlegend": false,
         "type": "violin",
         "x0": " ",
         "xaxis": "x",
         "y": [
          7.804200172424316,
          7.586400032043457,
          7.529600143432617,
          7.472899913787842,
          7.4029998779296875,
          7.395199775695801,
          7.315499782562256,
          7.240099906921387,
          7.22790002822876,
          7.122900009155273,
          7.097300052642822,
          7.094600200653076,
          6.960700035095215,
          6.910799980163574,
          6.893700122833252,
          6.8917999267578125,
          6.859099864959717,
          6.845200061798096,
          6.795599937438965,
          6.763000011444092,
          6.661300182342529,
          6.649899959564209,
          6.608500003814697,
          6.589099884033203,
          6.586699962615967,
          6.571199893951416,
          6.535399913787842,
          6.493899822235107,
          6.468599796295166,
          6.462600231170654,
          6.4552001953125,
          6.436200141906738,
          6.4045000076293945,
          6.367599964141846,
          6.333799839019775,
          6.329500198364258,
          6.299900054931641,
          6.264500141143799,
          6.259699821472168,
          6.258800029754639,
          6.212699890136719,
          6.1732001304626465,
          6.150300025939941,
          6.143899917602539,
          6.143599987030029,
          6.130000114440918,
          6.129000186920166,
          6.125,
          6.124599933624268,
          6.121600151062012,
          6.041200160980225,
          6.02370023727417,
          6.022500038146973,
          6.0142998695373535,
          6.01230001449585,
          5.9679999351501465,
          5.951099872589111,
          5.9309000968933105,
          5.902299880981445,
          5.8429999351501465,
          5.840199947357178,
          5.825300216674805,
          5.819200038909912,
          5.81790018081665,
          5.763299942016602,
          5.737800121307373,
          5.7221999168396,
          5.702700138092041,
          5.684299945831299,
          5.660699844360352,
          5.632500171661377,
          5.63040018081665,
          5.568900108337402,
          5.558899879455566,
          5.525899887084961,
          5.522900104522705,
          5.466100215911865,
          5.360300064086914,
          5.341700077056885,
          5.329800128936768,
          5.329100131988525,
          5.308499813079834,
          5.277299880981445,
          5.276899814605713,
          5.274600028991699,
          5.267099857330322,
          5.253600120544434,
          5.210599899291992,
          5.1107001304626465,
          5.109099864959717,
          5.071700096130371,
          5.071400165557861,
          5.052700042724609,
          5.0346999168396,
          4.980599880218506,
          4.973199844360352,
          4.953999996185303,
          4.940899848937988,
          4.907800197601318,
          4.9028000831604,
          4.876299858093262,
          4.855100154876709,
          4.723899841308594,
          4.637599945068359,
          4.630799770355225,
          4.613500118255615,
          4.605000019073486,
          4.5553998947143555,
          4.501299858093262,
          4.496699810028076,
          4.486599922180176,
          4.4415998458862305,
          4.432499885559082,
          4.396599769592285,
          4.393499851226807,
          4.373700141906738,
          4.372499942779541,
          4.282100200653076,
          4.279399871826172,
          4.197800159454346,
          4.170499801635742,
          4.137400150299072,
          4.119800090789795,
          4.09060001373291,
          4.042300224304199,
          4.035799980163574,
          4.019100189208984,
          3.9821999073028564,
          3.6937999725341797,
          3.5452001094818115,
          3.4951999187469482,
          3.43530011177063,
          3.207200050354004,
          3.2035000324249268,
          3.1375999450683594,
          2.392199993133545,
          1.8589999675750732
         ],
         "y0": " ",
         "yaxis": "y"
        }
       ],
       "layout": {
        "legend": {
         "tracegroupgap": 0
        },
        "margin": {
         "t": 60
        },
        "template": {
         "data": {
          "bar": [
           {
            "error_x": {
             "color": "#2a3f5f"
            },
            "error_y": {
             "color": "#2a3f5f"
            },
            "marker": {
             "line": {
              "color": "#E5ECF6",
              "width": 0.5
             },
             "pattern": {
              "fillmode": "overlay",
              "size": 10,
              "solidity": 0.2
             }
            },
            "type": "bar"
           }
          ],
          "barpolar": [
           {
            "marker": {
             "line": {
              "color": "#E5ECF6",
              "width": 0.5
             },
             "pattern": {
              "fillmode": "overlay",
              "size": 10,
              "solidity": 0.2
             }
            },
            "type": "barpolar"
           }
          ],
          "carpet": [
           {
            "aaxis": {
             "endlinecolor": "#2a3f5f",
             "gridcolor": "white",
             "linecolor": "white",
             "minorgridcolor": "white",
             "startlinecolor": "#2a3f5f"
            },
            "baxis": {
             "endlinecolor": "#2a3f5f",
             "gridcolor": "white",
             "linecolor": "white",
             "minorgridcolor": "white",
             "startlinecolor": "#2a3f5f"
            },
            "type": "carpet"
           }
          ],
          "choropleth": [
           {
            "colorbar": {
             "outlinewidth": 0,
             "ticks": ""
            },
            "type": "choropleth"
           }
          ],
          "contour": [
           {
            "colorbar": {
             "outlinewidth": 0,
             "ticks": ""
            },
            "colorscale": [
             [
              0,
              "#0d0887"
             ],
             [
              0.1111111111111111,
              "#46039f"
             ],
             [
              0.2222222222222222,
              "#7201a8"
             ],
             [
              0.3333333333333333,
              "#9c179e"
             ],
             [
              0.4444444444444444,
              "#bd3786"
             ],
             [
              0.5555555555555556,
              "#d8576b"
             ],
             [
              0.6666666666666666,
              "#ed7953"
             ],
             [
              0.7777777777777778,
              "#fb9f3a"
             ],
             [
              0.8888888888888888,
              "#fdca26"
             ],
             [
              1,
              "#f0f921"
             ]
            ],
            "type": "contour"
           }
          ],
          "contourcarpet": [
           {
            "colorbar": {
             "outlinewidth": 0,
             "ticks": ""
            },
            "type": "contourcarpet"
           }
          ],
          "heatmap": [
           {
            "colorbar": {
             "outlinewidth": 0,
             "ticks": ""
            },
            "colorscale": [
             [
              0,
              "#0d0887"
             ],
             [
              0.1111111111111111,
              "#46039f"
             ],
             [
              0.2222222222222222,
              "#7201a8"
             ],
             [
              0.3333333333333333,
              "#9c179e"
             ],
             [
              0.4444444444444444,
              "#bd3786"
             ],
             [
              0.5555555555555556,
              "#d8576b"
             ],
             [
              0.6666666666666666,
              "#ed7953"
             ],
             [
              0.7777777777777778,
              "#fb9f3a"
             ],
             [
              0.8888888888888888,
              "#fdca26"
             ],
             [
              1,
              "#f0f921"
             ]
            ],
            "type": "heatmap"
           }
          ],
          "heatmapgl": [
           {
            "colorbar": {
             "outlinewidth": 0,
             "ticks": ""
            },
            "colorscale": [
             [
              0,
              "#0d0887"
             ],
             [
              0.1111111111111111,
              "#46039f"
             ],
             [
              0.2222222222222222,
              "#7201a8"
             ],
             [
              0.3333333333333333,
              "#9c179e"
             ],
             [
              0.4444444444444444,
              "#bd3786"
             ],
             [
              0.5555555555555556,
              "#d8576b"
             ],
             [
              0.6666666666666666,
              "#ed7953"
             ],
             [
              0.7777777777777778,
              "#fb9f3a"
             ],
             [
              0.8888888888888888,
              "#fdca26"
             ],
             [
              1,
              "#f0f921"
             ]
            ],
            "type": "heatmapgl"
           }
          ],
          "histogram": [
           {
            "marker": {
             "pattern": {
              "fillmode": "overlay",
              "size": 10,
              "solidity": 0.2
             }
            },
            "type": "histogram"
           }
          ],
          "histogram2d": [
           {
            "colorbar": {
             "outlinewidth": 0,
             "ticks": ""
            },
            "colorscale": [
             [
              0,
              "#0d0887"
             ],
             [
              0.1111111111111111,
              "#46039f"
             ],
             [
              0.2222222222222222,
              "#7201a8"
             ],
             [
              0.3333333333333333,
              "#9c179e"
             ],
             [
              0.4444444444444444,
              "#bd3786"
             ],
             [
              0.5555555555555556,
              "#d8576b"
             ],
             [
              0.6666666666666666,
              "#ed7953"
             ],
             [
              0.7777777777777778,
              "#fb9f3a"
             ],
             [
              0.8888888888888888,
              "#fdca26"
             ],
             [
              1,
              "#f0f921"
             ]
            ],
            "type": "histogram2d"
           }
          ],
          "histogram2dcontour": [
           {
            "colorbar": {
             "outlinewidth": 0,
             "ticks": ""
            },
            "colorscale": [
             [
              0,
              "#0d0887"
             ],
             [
              0.1111111111111111,
              "#46039f"
             ],
             [
              0.2222222222222222,
              "#7201a8"
             ],
             [
              0.3333333333333333,
              "#9c179e"
             ],
             [
              0.4444444444444444,
              "#bd3786"
             ],
             [
              0.5555555555555556,
              "#d8576b"
             ],
             [
              0.6666666666666666,
              "#ed7953"
             ],
             [
              0.7777777777777778,
              "#fb9f3a"
             ],
             [
              0.8888888888888888,
              "#fdca26"
             ],
             [
              1,
              "#f0f921"
             ]
            ],
            "type": "histogram2dcontour"
           }
          ],
          "mesh3d": [
           {
            "colorbar": {
             "outlinewidth": 0,
             "ticks": ""
            },
            "type": "mesh3d"
           }
          ],
          "parcoords": [
           {
            "line": {
             "colorbar": {
              "outlinewidth": 0,
              "ticks": ""
             }
            },
            "type": "parcoords"
           }
          ],
          "pie": [
           {
            "automargin": true,
            "type": "pie"
           }
          ],
          "scatter": [
           {
            "fillpattern": {
             "fillmode": "overlay",
             "size": 10,
             "solidity": 0.2
            },
            "type": "scatter"
           }
          ],
          "scatter3d": [
           {
            "line": {
             "colorbar": {
              "outlinewidth": 0,
              "ticks": ""
             }
            },
            "marker": {
             "colorbar": {
              "outlinewidth": 0,
              "ticks": ""
             }
            },
            "type": "scatter3d"
           }
          ],
          "scattercarpet": [
           {
            "marker": {
             "colorbar": {
              "outlinewidth": 0,
              "ticks": ""
             }
            },
            "type": "scattercarpet"
           }
          ],
          "scattergeo": [
           {
            "marker": {
             "colorbar": {
              "outlinewidth": 0,
              "ticks": ""
             }
            },
            "type": "scattergeo"
           }
          ],
          "scattergl": [
           {
            "marker": {
             "colorbar": {
              "outlinewidth": 0,
              "ticks": ""
             }
            },
            "type": "scattergl"
           }
          ],
          "scattermapbox": [
           {
            "marker": {
             "colorbar": {
              "outlinewidth": 0,
              "ticks": ""
             }
            },
            "type": "scattermapbox"
           }
          ],
          "scatterpolar": [
           {
            "marker": {
             "colorbar": {
              "outlinewidth": 0,
              "ticks": ""
             }
            },
            "type": "scatterpolar"
           }
          ],
          "scatterpolargl": [
           {
            "marker": {
             "colorbar": {
              "outlinewidth": 0,
              "ticks": ""
             }
            },
            "type": "scatterpolargl"
           }
          ],
          "scatterternary": [
           {
            "marker": {
             "colorbar": {
              "outlinewidth": 0,
              "ticks": ""
             }
            },
            "type": "scatterternary"
           }
          ],
          "surface": [
           {
            "colorbar": {
             "outlinewidth": 0,
             "ticks": ""
            },
            "colorscale": [
             [
              0,
              "#0d0887"
             ],
             [
              0.1111111111111111,
              "#46039f"
             ],
             [
              0.2222222222222222,
              "#7201a8"
             ],
             [
              0.3333333333333333,
              "#9c179e"
             ],
             [
              0.4444444444444444,
              "#bd3786"
             ],
             [
              0.5555555555555556,
              "#d8576b"
             ],
             [
              0.6666666666666666,
              "#ed7953"
             ],
             [
              0.7777777777777778,
              "#fb9f3a"
             ],
             [
              0.8888888888888888,
              "#fdca26"
             ],
             [
              1,
              "#f0f921"
             ]
            ],
            "type": "surface"
           }
          ],
          "table": [
           {
            "cells": {
             "fill": {
              "color": "#EBF0F8"
             },
             "line": {
              "color": "white"
             }
            },
            "header": {
             "fill": {
              "color": "#C8D4E3"
             },
             "line": {
              "color": "white"
             }
            },
            "type": "table"
           }
          ]
         },
         "layout": {
          "annotationdefaults": {
           "arrowcolor": "#2a3f5f",
           "arrowhead": 0,
           "arrowwidth": 1
          },
          "autotypenumbers": "strict",
          "coloraxis": {
           "colorbar": {
            "outlinewidth": 0,
            "ticks": ""
           }
          },
          "colorscale": {
           "diverging": [
            [
             0,
             "#8e0152"
            ],
            [
             0.1,
             "#c51b7d"
            ],
            [
             0.2,
             "#de77ae"
            ],
            [
             0.3,
             "#f1b6da"
            ],
            [
             0.4,
             "#fde0ef"
            ],
            [
             0.5,
             "#f7f7f7"
            ],
            [
             0.6,
             "#e6f5d0"
            ],
            [
             0.7,
             "#b8e186"
            ],
            [
             0.8,
             "#7fbc41"
            ],
            [
             0.9,
             "#4d9221"
            ],
            [
             1,
             "#276419"
            ]
           ],
           "sequential": [
            [
             0,
             "#0d0887"
            ],
            [
             0.1111111111111111,
             "#46039f"
            ],
            [
             0.2222222222222222,
             "#7201a8"
            ],
            [
             0.3333333333333333,
             "#9c179e"
            ],
            [
             0.4444444444444444,
             "#bd3786"
            ],
            [
             0.5555555555555556,
             "#d8576b"
            ],
            [
             0.6666666666666666,
             "#ed7953"
            ],
            [
             0.7777777777777778,
             "#fb9f3a"
            ],
            [
             0.8888888888888888,
             "#fdca26"
            ],
            [
             1,
             "#f0f921"
            ]
           ],
           "sequentialminus": [
            [
             0,
             "#0d0887"
            ],
            [
             0.1111111111111111,
             "#46039f"
            ],
            [
             0.2222222222222222,
             "#7201a8"
            ],
            [
             0.3333333333333333,
             "#9c179e"
            ],
            [
             0.4444444444444444,
             "#bd3786"
            ],
            [
             0.5555555555555556,
             "#d8576b"
            ],
            [
             0.6666666666666666,
             "#ed7953"
            ],
            [
             0.7777777777777778,
             "#fb9f3a"
            ],
            [
             0.8888888888888888,
             "#fdca26"
            ],
            [
             1,
             "#f0f921"
            ]
           ]
          },
          "colorway": [
           "#636efa",
           "#EF553B",
           "#00cc96",
           "#ab63fa",
           "#FFA15A",
           "#19d3f3",
           "#FF6692",
           "#B6E880",
           "#FF97FF",
           "#FECB52"
          ],
          "font": {
           "color": "#2a3f5f"
          },
          "geo": {
           "bgcolor": "white",
           "lakecolor": "white",
           "landcolor": "#E5ECF6",
           "showlakes": true,
           "showland": true,
           "subunitcolor": "white"
          },
          "hoverlabel": {
           "align": "left"
          },
          "hovermode": "closest",
          "mapbox": {
           "style": "light"
          },
          "paper_bgcolor": "white",
          "plot_bgcolor": "#E5ECF6",
          "polar": {
           "angularaxis": {
            "gridcolor": "white",
            "linecolor": "white",
            "ticks": ""
           },
           "bgcolor": "#E5ECF6",
           "radialaxis": {
            "gridcolor": "white",
            "linecolor": "white",
            "ticks": ""
           }
          },
          "scene": {
           "xaxis": {
            "backgroundcolor": "#E5ECF6",
            "gridcolor": "white",
            "gridwidth": 2,
            "linecolor": "white",
            "showbackground": true,
            "ticks": "",
            "zerolinecolor": "white"
           },
           "yaxis": {
            "backgroundcolor": "#E5ECF6",
            "gridcolor": "white",
            "gridwidth": 2,
            "linecolor": "white",
            "showbackground": true,
            "ticks": "",
            "zerolinecolor": "white"
           },
           "zaxis": {
            "backgroundcolor": "#E5ECF6",
            "gridcolor": "white",
            "gridwidth": 2,
            "linecolor": "white",
            "showbackground": true,
            "ticks": "",
            "zerolinecolor": "white"
           }
          },
          "shapedefaults": {
           "line": {
            "color": "#2a3f5f"
           }
          },
          "ternary": {
           "aaxis": {
            "gridcolor": "white",
            "linecolor": "white",
            "ticks": ""
           },
           "baxis": {
            "gridcolor": "white",
            "linecolor": "white",
            "ticks": ""
           },
           "bgcolor": "#E5ECF6",
           "caxis": {
            "gridcolor": "white",
            "linecolor": "white",
            "ticks": ""
           }
          },
          "title": {
           "x": 0.05
          },
          "xaxis": {
           "automargin": true,
           "gridcolor": "white",
           "linecolor": "white",
           "ticks": "",
           "title": {
            "standoff": 15
           },
           "zerolinecolor": "white",
           "zerolinewidth": 2
          },
          "yaxis": {
           "automargin": true,
           "gridcolor": "white",
           "linecolor": "white",
           "ticks": "",
           "title": {
            "standoff": 15
           },
           "zerolinecolor": "white",
           "zerolinewidth": 2
          }
         }
        },
        "violinmode": "group",
        "xaxis": {
         "anchor": "y",
         "domain": [
          0,
          1
         ]
        },
        "yaxis": {
         "anchor": "x",
         "domain": [
          0,
          1
         ],
         "title": {
          "text": "ladder_score"
         }
        }
       }
      }
     },
     "metadata": {},
     "output_type": "display_data"
    }
   ],
   "source": [
    "fig = px.violin(data, y=\"ladder_score\", box=True, points=\"all\", )\n",
    "fig.show()"
   ]
  }
 ],
 "metadata": {
  "kernelspec": {
   "display_name": "base",
   "language": "python",
   "name": "python3"
  },
  "language_info": {
   "codemirror_mode": {
    "name": "ipython",
    "version": 3
   },
   "file_extension": ".py",
   "mimetype": "text/x-python",
   "name": "python",
   "nbconvert_exporter": "python",
   "pygments_lexer": "ipython3",
   "version": "3.8.5"
  },
  "orig_nbformat": 4
 },
 "nbformat": 4,
 "nbformat_minor": 2
}
